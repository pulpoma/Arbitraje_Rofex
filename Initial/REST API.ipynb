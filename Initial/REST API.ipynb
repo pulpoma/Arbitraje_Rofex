{
 "cells": [
  {
   "cell_type": "markdown",
   "metadata": {},
   "source": [
    "# Library"
   ]
  },
  {
   "cell_type": "markdown",
   "metadata": {},
   "source": [
    "Importamos librerias"
   ]
  },
  {
   "cell_type": "code",
   "execution_count": 1,
   "metadata": {},
   "outputs": [],
   "source": [
    "import pyRofex as pyRofex\n",
    "import yfinance as yf\n",
    "import pandas as pd\n",
    "import numpy as np\n",
    "import datetime as datetime\n",
    "\n",
    "# plotly dash"
   ]
  },
  {
   "cell_type": "markdown",
   "metadata": {},
   "source": [
    "# Import Data"
   ]
  },
  {
   "cell_type": "markdown",
   "metadata": {},
   "source": [
    "## Log in"
   ]
  },
  {
   "cell_type": "markdown",
   "metadata": {},
   "source": [
    "Hacemos el Login para poder traer datos de la API de Rofex"
   ]
  },
  {
   "cell_type": "code",
   "execution_count": 2,
   "metadata": {},
   "outputs": [],
   "source": [
    "pyRofex.initialize(user=\"luciomassimi3968\",\n",
    "                   password=\"feulrX6%\",\n",
    "                   account=\"REM3968\",\n",
    "                   environment=pyRofex.Environment.REMARKET)"
   ]
  },
  {
   "cell_type": "markdown",
   "metadata": {},
   "source": [
    "## Spot"
   ]
  },
  {
   "cell_type": "markdown",
   "metadata": {},
   "source": [
    "Seteamos los parametros para traer datos del spot."
   ]
  },
  {
   "cell_type": "code",
   "execution_count": 3,
   "metadata": {},
   "outputs": [],
   "source": [
    "tickers_spot = ['GGAL.BA','PAMP.BA','YPFD.BA','ARS=X']\n",
    "\n",
    "start = datetime.datetime(2022,1,1) # Starting date in format (year,month,day)\n",
    "end = datetime.datetime.today() # Ending date"
   ]
  },
  {
   "cell_type": "code",
   "execution_count": 4,
   "metadata": {
    "code_folding": [
     0
    ]
   },
   "outputs": [],
   "source": [
    "# spot_df = pd.DataFrame()\n",
    "# for ticker in tickers_spot:\n",
    "#     \"\"\"\n",
    "#     This will make a dataframe with the \"Close\" of each of our stocks\n",
    "#     \"\"\"\n",
    "#     spot_df[ticker] = yf.Ticker(ticker).history(start=end,end=end)['Close']\n",
    "\n",
    "# spot_df.columns =['GGAL','PAMP','YPFD','DLR']\n",
    "# spot_df.tail()"
   ]
  },
  {
   "cell_type": "code",
   "execution_count": 5,
   "metadata": {},
   "outputs": [
    {
     "data": {
      "text/html": [
       "<div>\n",
       "<style scoped>\n",
       "    .dataframe tbody tr th:only-of-type {\n",
       "        vertical-align: middle;\n",
       "    }\n",
       "\n",
       "    .dataframe tbody tr th {\n",
       "        vertical-align: top;\n",
       "    }\n",
       "\n",
       "    .dataframe thead th {\n",
       "        text-align: right;\n",
       "    }\n",
       "</style>\n",
       "<table border=\"1\" class=\"dataframe\">\n",
       "  <thead>\n",
       "    <tr style=\"text-align: right;\">\n",
       "      <th></th>\n",
       "      <th>GGAL</th>\n",
       "      <th>PAMP</th>\n",
       "      <th>YPFD</th>\n",
       "      <th>DLR</th>\n",
       "    </tr>\n",
       "    <tr>\n",
       "      <th>Date</th>\n",
       "      <th></th>\n",
       "      <th></th>\n",
       "      <th></th>\n",
       "      <th></th>\n",
       "    </tr>\n",
       "  </thead>\n",
       "  <tbody>\n",
       "    <tr>\n",
       "      <th>2022-01-19</th>\n",
       "      <td>191.050003</td>\n",
       "      <td>160.149994</td>\n",
       "      <td>866.299988</td>\n",
       "      <td>104.122375</td>\n",
       "    </tr>\n",
       "    <tr>\n",
       "      <th>2022-01-20</th>\n",
       "      <td>195.699997</td>\n",
       "      <td>164.850006</td>\n",
       "      <td>877.349976</td>\n",
       "      <td>104.201080</td>\n",
       "    </tr>\n",
       "    <tr>\n",
       "      <th>2022-01-21</th>\n",
       "      <td>189.399994</td>\n",
       "      <td>166.250000</td>\n",
       "      <td>851.650024</td>\n",
       "      <td>104.261841</td>\n",
       "    </tr>\n",
       "    <tr>\n",
       "      <th>2022-01-24</th>\n",
       "      <td>181.550003</td>\n",
       "      <td>163.800003</td>\n",
       "      <td>826.200012</td>\n",
       "      <td>104.350235</td>\n",
       "    </tr>\n",
       "    <tr>\n",
       "      <th>2022-01-25</th>\n",
       "      <td>183.399994</td>\n",
       "      <td>165.250000</td>\n",
       "      <td>831.049988</td>\n",
       "      <td>104.589996</td>\n",
       "    </tr>\n",
       "  </tbody>\n",
       "</table>\n",
       "</div>"
      ],
      "text/plain": [
       "                  GGAL        PAMP        YPFD         DLR\n",
       "Date                                                      \n",
       "2022-01-19  191.050003  160.149994  866.299988  104.122375\n",
       "2022-01-20  195.699997  164.850006  877.349976  104.201080\n",
       "2022-01-21  189.399994  166.250000  851.650024  104.261841\n",
       "2022-01-24  181.550003  163.800003  826.200012  104.350235\n",
       "2022-01-25  183.399994  165.250000  831.049988  104.589996"
      ]
     },
     "execution_count": 5,
     "metadata": {},
     "output_type": "execute_result"
    }
   ],
   "source": [
    "spot_df = pd.DataFrame()\n",
    "for ticker in tickers_spot:\n",
    "    \"\"\"\n",
    "    This will make a dataframe with the \"Close\" of each of our stocks\n",
    "    \"\"\"\n",
    "    spot_df[ticker] = yf.Ticker(ticker).history(start=start,end=end)['Close']\n",
    "\n",
    "spot_df.columns =['GGAL','PAMP','YPFD','DLR']\n",
    "spot_df.tail()"
   ]
  },
  {
   "cell_type": "code",
   "execution_count": 6,
   "metadata": {},
   "outputs": [],
   "source": [
    "# spot.T.iloc[:,-1]"
   ]
  },
  {
   "cell_type": "code",
   "execution_count": 7,
   "metadata": {},
   "outputs": [
    {
     "data": {
      "text/plain": [
       "GGAL    183.399994\n",
       "PAMP    165.250000\n",
       "YPFD    831.049988\n",
       "DLR     104.589996\n",
       "Name: 2022-01-25 00:00:00, dtype: float64"
      ]
     },
     "execution_count": 7,
     "metadata": {},
     "output_type": "execute_result"
    }
   ],
   "source": [
    "spot_last= spot_df.iloc[-1]\n",
    "spot_last"
   ]
  },
  {
   "cell_type": "markdown",
   "metadata": {},
   "source": [
    "## Futures"
   ]
  },
  {
   "cell_type": "markdown",
   "metadata": {},
   "source": [
    "### Import GGAL, PAMP, YFD, DLR/FUT"
   ]
  },
  {
   "cell_type": "markdown",
   "metadata": {},
   "source": [
    "Seteamos los tickers de los activos que queremos traer, en este caso traemos los futuros de GGAL, PAMP, YFD, y todos los futuros DLR/FUT de 2022"
   ]
  },
  {
   "cell_type": "code",
   "execution_count": 8,
   "metadata": {},
   "outputs": [],
   "source": [
    "futuros_dolar=['DLR/ENE22','DLR/FEB22','DLR/MAR22','DLR/ABR22','DLR/MAY22','DLR/JUN22','DLR/JUL22','DLR/AGO22','DLR/SEP22','DLR/OCT22','DLR/NOV22','DLR/DIC22']\n",
    "futuro_ggal=['GGAL/FEB22']\n",
    "futuro_pamp=['PAMP/FEB22']\n",
    "futuro_ypfd=['YPFD/FEB22']\n",
    "\n",
    "tickers= futuros_dolar + futuro_ggal + futuro_pamp + futuro_ypfd\n",
    "depth=5"
   ]
  },
  {
   "cell_type": "markdown",
   "metadata": {},
   "source": [
    "Usamos la funcion 'get_market_data' para traer la data de la rest API de rofex, y la almacenamos en un diccionario para luego poder extraer los datos que necesitemos"
   ]
  },
  {
   "cell_type": "code",
   "execution_count": 9,
   "metadata": {},
   "outputs": [
    {
     "data": {
      "text/plain": [
       "{'DLR/ENE22': {'status': 'OK',\n",
       "  'marketData': {'OF': [],\n",
       "   'CL': {'price': 105.2, 'size': None, 'date': 1642982400000},\n",
       "   'IV': None,\n",
       "   'BI': [{'price': 105.13, 'size': 65},\n",
       "    {'price': 104.38, 'size': 200},\n",
       "    {'price': 103.7, 'size': 66},\n",
       "    {'price': 103.63, 'size': 200}],\n",
       "   'NV': 2076000,\n",
       "   'EV': 219336710.0,\n",
       "   'OP': 105.2,\n",
       "   'SE': {'price': 116.0, 'size': None, 'date': 1630281600000},\n",
       "   'LA': {'price': 105.13, 'size': 1, 'date': 1643122301606},\n",
       "   'HI': 106.5,\n",
       "   'TV': 2076.0,\n",
       "   'LO': 105.1,\n",
       "   'OI': {'price': None, 'size': 103485, 'date': 1630195200000}},\n",
       "  'depth': 5,\n",
       "  'aggregated': True},\n",
       " 'DLR/FEB22': {'status': 'OK',\n",
       "  'marketData': {'OF': [{'price': 108.73, 'size': 99},\n",
       "    {'price': 108.93, 'size': 100},\n",
       "    {'price': 109.56, 'size': 100},\n",
       "    {'price': 109.72, 'size': 100},\n",
       "    {'price': 110.51, 'size': 100}],\n",
       "   'CL': {'price': 108.7, 'size': None, 'date': 1642982400000},\n",
       "   'IV': None,\n",
       "   'BI': [{'price': 108.65, 'size': 100},\n",
       "    {'price': 108.42, 'size': 1},\n",
       "    {'price': 108.37, 'size': 1},\n",
       "    {'price': 108.26, 'size': 1},\n",
       "    {'price': 108.2, 'size': 99}],\n",
       "   'NV': 31000,\n",
       "   'EV': 3367400.0,\n",
       "   'OP': 108.2,\n",
       "   'SE': {'price': 120.4, 'size': None, 'date': 1630281600000},\n",
       "   'LA': {'price': 108.73, 'size': 1, 'date': 1643123078834},\n",
       "   'HI': 108.73,\n",
       "   'TV': 31.0,\n",
       "   'LO': 108.2,\n",
       "   'OI': {'price': None, 'size': 74681, 'date': 1630195200000}},\n",
       "  'depth': 5,\n",
       "  'aggregated': True},\n",
       " 'DLR/MAR22': {'status': 'OK',\n",
       "  'marketData': {'OF': [{'price': 114.15, 'size': 100},\n",
       "    {'price': 114.24, 'size': 100},\n",
       "    {'price': 114.84, 'size': 100},\n",
       "    {'price': 115.03, 'size': 100},\n",
       "    {'price': 115.53, 'size': 100}],\n",
       "   'CL': {'price': 114.08, 'size': None, 'date': 1642982400000},\n",
       "   'IV': None,\n",
       "   'BI': [{'price': 114.0, 'size': 250},\n",
       "    {'price': 113.95, 'size': 4},\n",
       "    {'price': 113.56, 'size': 100},\n",
       "    {'price': 113.47, 'size': 250}],\n",
       "   'NV': 9000,\n",
       "   'EV': 1025950.0,\n",
       "   'OP': 113.95,\n",
       "   'SE': {'price': 125.45, 'size': None, 'date': 1630368000000},\n",
       "   'LA': {'price': 114.0, 'size': 8, 'date': 1643121019292},\n",
       "   'HI': 114.0,\n",
       "   'TV': 9,\n",
       "   'LO': 113.95,\n",
       "   'OI': {'price': None, 'size': 26644, 'date': 1630281600000}},\n",
       "  'depth': 5,\n",
       "  'aggregated': True},\n",
       " 'DLR/ABR22': {'status': 'OK',\n",
       "  'marketData': {'OF': [{'price': 118.95, 'size': 5},\n",
       "    {'price': 119.48, 'size': 9},\n",
       "    {'price': 119.83, 'size': 9},\n",
       "    {'price': 120.37, 'size': 100}],\n",
       "   'CL': {'price': 118.7, 'size': None, 'date': 1642982400000},\n",
       "   'IV': None,\n",
       "   'BI': [{'price': 118.6, 'size': 50},\n",
       "    {'price': 118.53, 'size': 50},\n",
       "    {'price': 117.82, 'size': 50}],\n",
       "   'NV': 5000,\n",
       "   'EV': 593000.0,\n",
       "   'OP': 117.0,\n",
       "   'SE': {'price': 129.75, 'size': None, 'date': 1630281600000},\n",
       "   'LA': {'price': 119.0, 'size': 4.0, 'date': 1643117077570},\n",
       "   'HI': 119.0,\n",
       "   'TV': 5.0,\n",
       "   'LO': 117.0,\n",
       "   'OI': {'price': None, 'size': 21568, 'date': 1630195200000}},\n",
       "  'depth': 5,\n",
       "  'aggregated': True},\n",
       " 'DLR/MAY22': {'status': 'OK',\n",
       "  'marketData': {'OF': [{'price': 124.2, 'size': 100},\n",
       "    {'price': 124.3, 'size': 100},\n",
       "    {'price': 125.0, 'size': 10},\n",
       "    {'price': 125.19, 'size': 100},\n",
       "    {'price': 125.24, 'size': 100}],\n",
       "   'CL': {'price': 124.0, 'size': None, 'date': 1642982400000},\n",
       "   'IV': None,\n",
       "   'BI': [{'price': 123.6, 'size': 60},\n",
       "    {'price': 123.24, 'size': 100},\n",
       "    {'price': 123.16, 'size': 100},\n",
       "    {'price': 122.72, 'size': 60},\n",
       "    {'price': 122.35, 'size': 60}],\n",
       "   'NV': 6000,\n",
       "   'EV': 745200.0,\n",
       "   'OP': 124.2,\n",
       "   'SE': {'price': 134.0, 'size': None, 'date': 1630281600000},\n",
       "   'LA': {'price': 124.2, 'size': 6, 'date': 1643121055440},\n",
       "   'HI': 124.2,\n",
       "   'TV': 6,\n",
       "   'LO': 124.2,\n",
       "   'OI': {'price': None, 'size': 9243, 'date': 1630195200000}},\n",
       "  'depth': 5,\n",
       "  'aggregated': True},\n",
       " 'DLR/JUN22': {'status': 'OK',\n",
       "  'marketData': {'OF': [{'price': 129.25, 'size': 100},\n",
       "    {'price': 129.92, 'size': 100},\n",
       "    {'price': 130.87, 'size': 100},\n",
       "    {'price': 131.0, 'size': 100}],\n",
       "   'CL': {'price': 128.5, 'size': None, 'date': 1642982400000},\n",
       "   'IV': None,\n",
       "   'BI': [{'price': 129.2, 'size': 1},\n",
       "    {'price': 128.3, 'size': 100},\n",
       "    {'price': 128.06, 'size': 100},\n",
       "    {'price': 127.79, 'size': 100},\n",
       "    {'price': 126.92, 'size': 100}],\n",
       "   'NV': 2000,\n",
       "   'EV': 258500.0,\n",
       "   'OP': 129.25,\n",
       "   'SE': {'price': 137.85, 'size': None, 'date': 1630368000000},\n",
       "   'LA': {'price': 129.25, 'size': 2.0, 'date': 1643117080280},\n",
       "   'HI': 129.25,\n",
       "   'TV': 2.0,\n",
       "   'LO': 129.25,\n",
       "   'OI': {'price': None, 'size': 6697, 'date': 1630281600000}},\n",
       "  'depth': 5,\n",
       "  'aggregated': True},\n",
       " 'DLR/JUL22': {'status': 'OK',\n",
       "  'marketData': {'OF': [],\n",
       "   'CL': {'price': 133.0, 'size': None, 'date': 1642982400000},\n",
       "   'IV': None,\n",
       "   'BI': [],\n",
       "   'NV': 10000,\n",
       "   'EV': 1300000.0,\n",
       "   'OP': 130.0,\n",
       "   'SE': {'price': 142.0, 'size': None, 'date': 1630368000000},\n",
       "   'LA': {'price': 130.0, 'size': 10.0, 'date': 1643115546426},\n",
       "   'HI': 130.0,\n",
       "   'TV': 10.0,\n",
       "   'LO': 130.0,\n",
       "   'OI': {'price': None, 'size': 2632, 'date': 1630281600000}},\n",
       "  'depth': 5,\n",
       "  'aggregated': True},\n",
       " 'DLR/AGO22': {'status': 'OK',\n",
       "  'marketData': {'OF': None,\n",
       "   'CL': {'price': 138.3, 'size': None, 'date': 1642982400000},\n",
       "   'IV': None,\n",
       "   'BI': None,\n",
       "   'NV': 0,\n",
       "   'EV': 0.0,\n",
       "   'OP': None,\n",
       "   'SE': None,\n",
       "   'LA': None,\n",
       "   'HI': None,\n",
       "   'TV': 0,\n",
       "   'LO': None,\n",
       "   'OI': None},\n",
       "  'depth': 5,\n",
       "  'aggregated': True},\n",
       " 'DLR/SEP22': {'status': 'OK',\n",
       "  'marketData': {'OF': None,\n",
       "   'CL': {'price': 144.64, 'size': None, 'date': 1642982400000},\n",
       "   'IV': None,\n",
       "   'BI': None,\n",
       "   'NV': 0,\n",
       "   'EV': 0.0,\n",
       "   'OP': None,\n",
       "   'SE': None,\n",
       "   'LA': None,\n",
       "   'HI': None,\n",
       "   'TV': 0,\n",
       "   'LO': None,\n",
       "   'OI': None},\n",
       "  'depth': 5,\n",
       "  'aggregated': True},\n",
       " 'DLR/OCT22': {'status': 'OK',\n",
       "  'marketData': {'OF': None,\n",
       "   'CL': {'price': 144.0, 'size': None, 'date': 1642982400000},\n",
       "   'IV': None,\n",
       "   'BI': None,\n",
       "   'NV': 0,\n",
       "   'EV': 0.0,\n",
       "   'OP': None,\n",
       "   'SE': None,\n",
       "   'LA': None,\n",
       "   'HI': None,\n",
       "   'TV': 0,\n",
       "   'LO': None,\n",
       "   'OI': None},\n",
       "  'depth': 5,\n",
       "  'aggregated': True},\n",
       " 'DLR/NOV22': {'status': 'OK',\n",
       "  'marketData': {'OF': None,\n",
       "   'CL': None,\n",
       "   'IV': None,\n",
       "   'BI': None,\n",
       "   'NV': 0,\n",
       "   'EV': 0.0,\n",
       "   'OP': None,\n",
       "   'SE': {'price': 151.5, 'size': None, 'date': None},\n",
       "   'LA': None,\n",
       "   'HI': None,\n",
       "   'TV': 0,\n",
       "   'LO': None,\n",
       "   'OI': {'price': None, 'size': 4, 'date': None}},\n",
       "  'depth': 5,\n",
       "  'aggregated': True},\n",
       " 'DLR/DIC22': {'status': 'ERROR',\n",
       "  'message': None,\n",
       "  'description': \"Security DLR/DIC22:ROFX doesn't exist\"},\n",
       " 'GGAL/FEB22': {'status': 'OK',\n",
       "  'marketData': {'OF': None,\n",
       "   'CL': None,\n",
       "   'IV': None,\n",
       "   'BI': None,\n",
       "   'NV': 0,\n",
       "   'EV': 0.0,\n",
       "   'OP': None,\n",
       "   'SE': None,\n",
       "   'LA': None,\n",
       "   'HI': None,\n",
       "   'TV': 0,\n",
       "   'LO': None,\n",
       "   'OI': None},\n",
       "  'depth': 5,\n",
       "  'aggregated': True},\n",
       " 'PAMP/FEB22': {'status': 'OK',\n",
       "  'marketData': {'OF': [{'price': 169.4, 'size': 5},\n",
       "    {'price': 169.75, 'size': 5},\n",
       "    {'price': 170.35, 'size': 5},\n",
       "    {'price': 170.95, 'size': 5},\n",
       "    {'price': 171.6, 'size': 5}],\n",
       "   'CL': {'price': 169.75, 'size': None, 'date': 1642982400000},\n",
       "   'IV': None,\n",
       "   'BI': [{'price': 168.6, 'size': 5},\n",
       "    {'price': 168.15, 'size': 5},\n",
       "    {'price': 167.9, 'size': 5},\n",
       "    {'price': 166.6, 'size': 5},\n",
       "    {'price': 166.45, 'size': 5}],\n",
       "   'NV': 5600,\n",
       "   'EV': 950375.0,\n",
       "   'OP': 171.0,\n",
       "   'SE': None,\n",
       "   'LA': {'price': 167.9, 'size': 1, 'date': 1643122103183},\n",
       "   'HI': 171.0,\n",
       "   'TV': 56,\n",
       "   'LO': 167.9,\n",
       "   'OI': None},\n",
       "  'depth': 5,\n",
       "  'aggregated': True},\n",
       " 'YPFD/FEB22': {'status': 'OK',\n",
       "  'marketData': {'OF': [{'price': 902.35, 'size': 5},\n",
       "    {'price': 907.5, 'size': 5}],\n",
       "   'CL': {'price': 900.0, 'size': None, 'date': 1642982400000},\n",
       "   'IV': None,\n",
       "   'BI': [],\n",
       "   'NV': 0,\n",
       "   'EV': 0.0,\n",
       "   'OP': None,\n",
       "   'SE': None,\n",
       "   'LA': None,\n",
       "   'HI': None,\n",
       "   'TV': 0,\n",
       "   'LO': None,\n",
       "   'OI': None},\n",
       "  'depth': 5,\n",
       "  'aggregated': True}}"
      ]
     },
     "execution_count": 9,
     "metadata": {},
     "output_type": "execute_result"
    }
   ],
   "source": [
    "resp_dict = {}\n",
    "\n",
    "for instrument in tickers:\n",
    "    resp_dict[f\"{instrument}\"] = pyRofex.get_market_data(ticker = instrument, depth = depth)\n",
    "    \n",
    "resp_dict"
   ]
  },
  {
   "cell_type": "markdown",
   "metadata": {},
   "source": [
    "### BID - OFFER per instrument"
   ]
  },
  {
   "cell_type": "markdown",
   "metadata": {},
   "source": [
    "Del diccionario de datos que creamos a partir del query, extraemos los precios del BID y OFFER de los distintos activos. A veces como la liquidez es muy limitada, no hay puntas en el BID ni en el OFFER. Por esto tambien agregue un nested \"try - Except\" por si es totalmente necesario traer algun dato. Esto a la hora de tradear o correr el bot no deberia hacerse, y solo se deberian tomar los datos de BID y OFFER. En este caso lo hago para que se vean mas datos cuando se corre la notebook."
   ]
  },
  {
   "cell_type": "code",
   "execution_count": 10,
   "metadata": {
    "code_folding": [
     0
    ]
   },
   "outputs": [],
   "source": [
    "# #BID\n",
    "# bid={}\n",
    "# for instrument in tickers:\n",
    "#     try:\n",
    "#         bid[instrument] = resp_dict[instrument]['marketData']['BI'][0]['price']\n",
    "#     except:\n",
    "#         print(f\"{instrument} has no BID\")\n",
    "#         bid[instrument] = np.nan\n",
    "\n",
    "# bid"
   ]
  },
  {
   "cell_type": "code",
   "execution_count": 11,
   "metadata": {
    "code_folding": [
     9
    ]
   },
   "outputs": [
    {
     "name": "stdout",
     "output_type": "stream",
     "text": [
      "DLR/JUL22 has no BID\n",
      "DLR/AGO22 has no BID\n",
      "DLR/SEP22 has no BID\n",
      "DLR/OCT22 has no BID\n",
      "DLR/NOV22 has no BID\n",
      "DLR/DIC22 has no BID\n",
      "GGAL/FEB22 has no BID\n",
      "YPFD/FEB22 has no BID\n"
     ]
    },
    {
     "data": {
      "text/plain": [
       "{'DLR/ENE22': 105.13,\n",
       " 'DLR/FEB22': 108.65,\n",
       " 'DLR/MAR22': 114.0,\n",
       " 'DLR/ABR22': 118.6,\n",
       " 'DLR/MAY22': 123.6,\n",
       " 'DLR/JUN22': 129.2,\n",
       " 'DLR/JUL22': nan,\n",
       " 'DLR/AGO22': nan,\n",
       " 'DLR/SEP22': nan,\n",
       " 'DLR/OCT22': nan,\n",
       " 'DLR/NOV22': nan,\n",
       " 'DLR/DIC22': nan,\n",
       " 'GGAL/FEB22': nan,\n",
       " 'PAMP/FEB22': 168.6,\n",
       " 'YPFD/FEB22': nan}"
      ]
     },
     "execution_count": 11,
     "metadata": {},
     "output_type": "execute_result"
    }
   ],
   "source": [
    "#BID\n",
    "bid={}\n",
    "for instrument in tickers:\n",
    "    #Trato de traer los valores del precio\n",
    "    try:\n",
    "        bid[instrument] = resp_dict[instrument]['marketData']['BI'][0]['price']\n",
    "    \n",
    "    #si no trae valores de precio y necesito probar algo de las funciones que siguen, puedo tratar de importar los\n",
    "    #datos del cierre o del ultimo precio\n",
    "    except:\n",
    "#         try:\n",
    "#             print(f\"{instrument} has no BID\")\n",
    "#             bid[instrument] = resp_dict[instrument]['marketData']['LA'][0]['price']\n",
    "            \n",
    "#         except:\n",
    "#             try:\n",
    "#                 bid[instrument] = resp_dict[instrument]['marketData']['CL']['price']\n",
    "        \n",
    "#             except:\n",
    "                print(f\"{instrument} has no BID\")\n",
    "                bid[instrument] = np.nan\n",
    "\n",
    "bid"
   ]
  },
  {
   "cell_type": "code",
   "execution_count": 12,
   "metadata": {
    "code_folding": [
     0
    ]
   },
   "outputs": [],
   "source": [
    "# #OFFER\n",
    "# offer={}\n",
    "# for instrument in tickers:\n",
    "#     try:\n",
    "#         offer[instrument] = resp_dict[instrument]['marketData']['OF'][0]['price']\n",
    "#     except:\n",
    "#         print(f\"{instrument} has no OFFER\")\n",
    "#         offer[instrument] = np.nan\n",
    "\n",
    "# offer"
   ]
  },
  {
   "cell_type": "code",
   "execution_count": 13,
   "metadata": {
    "code_folding": [
     8
    ]
   },
   "outputs": [
    {
     "name": "stdout",
     "output_type": "stream",
     "text": [
      "DLR/ENE22 has no OFFER\n",
      "DLR/JUL22 has no OFFER\n",
      "DLR/AGO22 has no OFFER\n",
      "DLR/SEP22 has no OFFER\n",
      "DLR/OCT22 has no OFFER\n",
      "DLR/NOV22 has no OFFER\n",
      "DLR/DIC22 has no OFFER\n",
      "GGAL/FEB22 has no OFFER\n"
     ]
    },
    {
     "data": {
      "text/plain": [
       "{'DLR/ENE22': nan,\n",
       " 'DLR/FEB22': 108.73,\n",
       " 'DLR/MAR22': 114.15,\n",
       " 'DLR/ABR22': 118.95,\n",
       " 'DLR/MAY22': 124.2,\n",
       " 'DLR/JUN22': 129.25,\n",
       " 'DLR/JUL22': nan,\n",
       " 'DLR/AGO22': nan,\n",
       " 'DLR/SEP22': nan,\n",
       " 'DLR/OCT22': nan,\n",
       " 'DLR/NOV22': nan,\n",
       " 'DLR/DIC22': nan,\n",
       " 'GGAL/FEB22': nan,\n",
       " 'PAMP/FEB22': 169.4,\n",
       " 'YPFD/FEB22': 902.35}"
      ]
     },
     "execution_count": 13,
     "metadata": {},
     "output_type": "execute_result"
    }
   ],
   "source": [
    "#OFFER\n",
    "offer={}\n",
    "for instrument in tickers:\n",
    "    #Trato de traer los valores del precio\n",
    "    \n",
    "    try:\n",
    "        offer[instrument] = resp_dict[instrument]['marketData']['OF'][0]['price']\n",
    "        \n",
    "    except:\n",
    "        \n",
    "        #si no trae valores de precio y necesito probar algo de las funciones que siguen, puedo tratar de importar los\n",
    "        #datos del cierre o del ultimo precio\n",
    "#         try:\n",
    "#             print(f\"{instrument} has no OFFER\")\n",
    "#             offer[instrument] = resp_dict[instrument]['marketData']['LA'][0]['price']\n",
    "            \n",
    "#         except:\n",
    "#             try:\n",
    "#                 offer[instrument] = resp_dict[instrument]['marketData']['CL']['price']\n",
    "        \n",
    "#             except:\n",
    "                print(f\"{instrument} has no OFFER\")\n",
    "                offer[instrument] = np.nan\n",
    "\n",
    "offer"
   ]
  },
  {
   "cell_type": "markdown",
   "metadata": {},
   "source": [
    "Creo el dataframe con los valores de BID y OFFER para cada uno de los activos que pido"
   ]
  },
  {
   "cell_type": "code",
   "execution_count": 14,
   "metadata": {
    "scrolled": false
   },
   "outputs": [
    {
     "data": {
      "text/html": [
       "<div>\n",
       "<style scoped>\n",
       "    .dataframe tbody tr th:only-of-type {\n",
       "        vertical-align: middle;\n",
       "    }\n",
       "\n",
       "    .dataframe tbody tr th {\n",
       "        vertical-align: top;\n",
       "    }\n",
       "\n",
       "    .dataframe thead th {\n",
       "        text-align: right;\n",
       "    }\n",
       "</style>\n",
       "<table border=\"1\" class=\"dataframe\">\n",
       "  <thead>\n",
       "    <tr style=\"text-align: right;\">\n",
       "      <th></th>\n",
       "      <th>bid</th>\n",
       "      <th>offer</th>\n",
       "    </tr>\n",
       "  </thead>\n",
       "  <tbody>\n",
       "    <tr>\n",
       "      <th>DLR/ENE22</th>\n",
       "      <td>105.13</td>\n",
       "      <td>NaN</td>\n",
       "    </tr>\n",
       "    <tr>\n",
       "      <th>DLR/FEB22</th>\n",
       "      <td>108.65</td>\n",
       "      <td>108.73</td>\n",
       "    </tr>\n",
       "    <tr>\n",
       "      <th>DLR/MAR22</th>\n",
       "      <td>114.00</td>\n",
       "      <td>114.15</td>\n",
       "    </tr>\n",
       "    <tr>\n",
       "      <th>DLR/ABR22</th>\n",
       "      <td>118.60</td>\n",
       "      <td>118.95</td>\n",
       "    </tr>\n",
       "    <tr>\n",
       "      <th>DLR/MAY22</th>\n",
       "      <td>123.60</td>\n",
       "      <td>124.20</td>\n",
       "    </tr>\n",
       "    <tr>\n",
       "      <th>DLR/JUN22</th>\n",
       "      <td>129.20</td>\n",
       "      <td>129.25</td>\n",
       "    </tr>\n",
       "    <tr>\n",
       "      <th>DLR/JUL22</th>\n",
       "      <td>NaN</td>\n",
       "      <td>NaN</td>\n",
       "    </tr>\n",
       "    <tr>\n",
       "      <th>DLR/AGO22</th>\n",
       "      <td>NaN</td>\n",
       "      <td>NaN</td>\n",
       "    </tr>\n",
       "    <tr>\n",
       "      <th>DLR/SEP22</th>\n",
       "      <td>NaN</td>\n",
       "      <td>NaN</td>\n",
       "    </tr>\n",
       "    <tr>\n",
       "      <th>DLR/OCT22</th>\n",
       "      <td>NaN</td>\n",
       "      <td>NaN</td>\n",
       "    </tr>\n",
       "    <tr>\n",
       "      <th>DLR/NOV22</th>\n",
       "      <td>NaN</td>\n",
       "      <td>NaN</td>\n",
       "    </tr>\n",
       "    <tr>\n",
       "      <th>DLR/DIC22</th>\n",
       "      <td>NaN</td>\n",
       "      <td>NaN</td>\n",
       "    </tr>\n",
       "    <tr>\n",
       "      <th>GGAL/FEB22</th>\n",
       "      <td>NaN</td>\n",
       "      <td>NaN</td>\n",
       "    </tr>\n",
       "    <tr>\n",
       "      <th>PAMP/FEB22</th>\n",
       "      <td>168.60</td>\n",
       "      <td>169.40</td>\n",
       "    </tr>\n",
       "    <tr>\n",
       "      <th>YPFD/FEB22</th>\n",
       "      <td>NaN</td>\n",
       "      <td>902.35</td>\n",
       "    </tr>\n",
       "  </tbody>\n",
       "</table>\n",
       "</div>"
      ],
      "text/plain": [
       "               bid   offer\n",
       "DLR/ENE22   105.13     NaN\n",
       "DLR/FEB22   108.65  108.73\n",
       "DLR/MAR22   114.00  114.15\n",
       "DLR/ABR22   118.60  118.95\n",
       "DLR/MAY22   123.60  124.20\n",
       "DLR/JUN22   129.20  129.25\n",
       "DLR/JUL22      NaN     NaN\n",
       "DLR/AGO22      NaN     NaN\n",
       "DLR/SEP22      NaN     NaN\n",
       "DLR/OCT22      NaN     NaN\n",
       "DLR/NOV22      NaN     NaN\n",
       "DLR/DIC22      NaN     NaN\n",
       "GGAL/FEB22     NaN     NaN\n",
       "PAMP/FEB22  168.60  169.40\n",
       "YPFD/FEB22     NaN  902.35"
      ]
     },
     "execution_count": 14,
     "metadata": {},
     "output_type": "execute_result"
    }
   ],
   "source": [
    "fut = pd.DataFrame({\"bid\":bid,\"offer\":offer})\n",
    "fut"
   ]
  },
  {
   "cell_type": "markdown",
   "metadata": {},
   "source": [
    "Si es necesario, se puede agregar la comision de compra y venta para el futuro para saber cuales serian las tasas reales en caso de operar\n",
    "(lo mismo se deberia hacer para el spot)"
   ]
  },
  {
   "cell_type": "code",
   "execution_count": 15,
   "metadata": {
    "code_folding": [
     0
    ]
   },
   "outputs": [],
   "source": [
    "#comision\n",
    "# comision = .005\n",
    "\n",
    "# fut['offer']=fut['offer']*(1+comision)\n",
    "# fut['bid']=fut['bid']*(1-comision)\n",
    "# fut"
   ]
  },
  {
   "cell_type": "markdown",
   "metadata": {},
   "source": [
    "# Modify Data"
   ]
  },
  {
   "cell_type": "markdown",
   "metadata": {},
   "source": [
    "## Defining functions: "
   ]
  },
  {
   "cell_type": "markdown",
   "metadata": {},
   "source": [
    "### Tasas"
   ]
  },
  {
   "cell_type": "markdown",
   "metadata": {},
   "source": [
    "Creamos distintas funciones para obtener la tasa. La tasa va a variar dependiendo si usamos tasa de compounding continuo(que es lo que se suele usar en derivados), si se calcula TNA, TEA, etc. Para esto se crea una funcion que engloba a todas las otras funciones, y cambiando la variable \"TIPO\" vamos a poder elegir entre una u otra. Tambien se puede seleccionar el input temporal como dia o mes de ser necesario"
   ]
  },
  {
   "cell_type": "code",
   "execution_count": 16,
   "metadata": {},
   "outputs": [],
   "source": [
    "spot_v=100\n",
    "future_v=105\n",
    "dias=30\n",
    "mes=1"
   ]
  },
  {
   "cell_type": "markdown",
   "metadata": {},
   "source": [
    "Tasa de compounding continuo, gralmente usada para derivados."
   ]
  },
  {
   "cell_type": "code",
   "execution_count": 17,
   "metadata": {},
   "outputs": [
    {
     "data": {
      "text/plain": [
       "0.5854819700331846"
      ]
     },
     "execution_count": 17,
     "metadata": {},
     "output_type": "execute_result"
    }
   ],
   "source": [
    "def tasa_continua_mes(spot,future,t=1):\n",
    "    tasa=np.log(future/spot) / (t/12)\n",
    "    return(tasa)\n",
    "\n",
    "tasa_continua_mes(spot_v,future_v,mes)"
   ]
  },
  {
   "cell_type": "code",
   "execution_count": 18,
   "metadata": {},
   "outputs": [
    {
     "data": {
      "text/plain": [
       "0.5936136640614232"
      ]
     },
     "execution_count": 18,
     "metadata": {},
     "output_type": "execute_result"
    }
   ],
   "source": [
    "def tasa_continua_dias(spot,future,t=30):\n",
    "    tasa=np.log(future/spot) / (t/365)\n",
    "    return(tasa)\n",
    "\n",
    "tasa_continua_dias(spot_v,future_v,dias)"
   ]
  },
  {
   "cell_type": "markdown",
   "metadata": {},
   "source": [
    "Tasa Nocional Anual, el equivalente seria la tasa que se ve en los plazo fijos"
   ]
  },
  {
   "cell_type": "code",
   "execution_count": 19,
   "metadata": {},
   "outputs": [
    {
     "data": {
      "text/plain": [
       "0.6000000000000005"
      ]
     },
     "execution_count": 19,
     "metadata": {},
     "output_type": "execute_result"
    }
   ],
   "source": [
    "def tasa_tna_mes(spot,future,t=1):\n",
    "    tasa=((future/spot)-1)*(12/t)\n",
    "    return(tasa)\n",
    "\n",
    "tasa_tna_mes(spot_v,future_v,mes)"
   ]
  },
  {
   "cell_type": "code",
   "execution_count": 20,
   "metadata": {},
   "outputs": [
    {
     "data": {
      "text/plain": [
       "0.6083333333333338"
      ]
     },
     "execution_count": 20,
     "metadata": {},
     "output_type": "execute_result"
    }
   ],
   "source": [
    "def tasa_tna_dias(spot,future,t=30):\n",
    "    tasa=((future/spot)-1)*(365/t)\n",
    "    return(tasa)\n",
    "\n",
    "tasa_tna_dias(spot_v,future_v,dias)"
   ]
  },
  {
   "cell_type": "markdown",
   "metadata": {},
   "source": [
    "Tasa Efectiva Anual, es la tasa 'REAL' que estariamos percibiendo en el ano. La diferencia con la nocional, es que la nocional no toma en cuenta el compounding y en esta si se tiene en cuenta. \n",
    "Por ej, si ponemos un plazo fijo con TNA 30% a un ano, 100>130. Pero si en vez de ponerla a un ano se pone a la misma tasa TNA 30% pero cada mes, al final del ano se va a tener >130 ya que cada mes se va a tener un poco de retorno y ese retorno tambien se va a colocar. Por eso la TEA > TNA"
   ]
  },
  {
   "cell_type": "code",
   "execution_count": 21,
   "metadata": {},
   "outputs": [
    {
     "data": {
      "text/plain": [
       "0.7958563260221301"
      ]
     },
     "execution_count": 21,
     "metadata": {},
     "output_type": "execute_result"
    }
   ],
   "source": [
    "def tasa_tea_mes(spot,future,t=30):\n",
    "    tasa=((future/spot)**(12/t))-1\n",
    "    return(tasa)\n",
    "\n",
    "tasa_tea_mes(spot_v,future_v,mes)"
   ]
  },
  {
   "cell_type": "code",
   "execution_count": 22,
   "metadata": {},
   "outputs": [
    {
     "data": {
      "text/plain": [
       "0.8105192164554333"
      ]
     },
     "execution_count": 22,
     "metadata": {},
     "output_type": "execute_result"
    }
   ],
   "source": [
    "def tasa_tea_dias(spot,future,t=30):\n",
    "    tasa=((future/spot)**(365/t))-1\n",
    "    return(tasa)\n",
    "\n",
    "tasa_tea_dias(spot_v,future_v,dias)"
   ]
  },
  {
   "cell_type": "markdown",
   "metadata": {},
   "source": [
    "La tasa directa es el % real sin anualizar"
   ]
  },
  {
   "cell_type": "code",
   "execution_count": 23,
   "metadata": {},
   "outputs": [
    {
     "data": {
      "text/plain": [
       "0.050000000000000044"
      ]
     },
     "execution_count": 23,
     "metadata": {},
     "output_type": "execute_result"
    }
   ],
   "source": [
    "def tasa_directa(spot,future):\n",
    "    tasa=(future/spot)-1\n",
    "    return(tasa)\n",
    "\n",
    "tasa_directa(spot_v,future_v)"
   ]
  },
  {
   "cell_type": "code",
   "execution_count": 24,
   "metadata": {},
   "outputs": [
    {
     "data": {
      "text/plain": [
       "(100, 105)"
      ]
     },
     "execution_count": 24,
     "metadata": {},
     "output_type": "execute_result"
    }
   ],
   "source": [
    "spot_v, future_v"
   ]
  },
  {
   "cell_type": "markdown",
   "metadata": {},
   "source": [
    "Esta funcion toma todas las otras funciones calculadoras de tasa y las junta en una sola para que sea mas simple seleccionar la tasa que se quiere usar. En vez de cambiar todas las funciones, se puede poner una variable como 'tipo' antes de correr las funciones y seleccionar el tipo de tasa que se quiere usar de esa manera. Cumpliria la funcion de 'switch'"
   ]
  },
  {
   "cell_type": "code",
   "execution_count": 25,
   "metadata": {
    "code_folding": [
     0
    ]
   },
   "outputs": [],
   "source": [
    "# def tipo_tasa(tipo,period,spot,future,t=1):\n",
    "    \n",
    "#     if tipo.lower()== \"continua\":\n",
    "        \n",
    "#         if period.lower()==\"mes\":\n",
    "#             return(tasa_continua_mes(spot,future,t))\n",
    "        \n",
    "#         elif period.lower()==\"dias\":\n",
    "#             return(tasa_continua_dias(spot,future,t))\n",
    "        \n",
    "#         else:\n",
    "#             print(\"Options: mes, dias\")\n",
    "            \n",
    "            \n",
    "#     elif tipo.lower()== \"tna\":\n",
    "        \n",
    "#         if period.lower()==\"mes\":\n",
    "#             return(tasa_tna_mes(spot,future,t))\n",
    "        \n",
    "#         elif period.lower()==\"dias\":\n",
    "#             return(tasa_tna_dias(spot,future,t))\n",
    "        \n",
    "#         else:\n",
    "#             print(\"Options: mes, dias\")\n",
    "        \n",
    "        \n",
    "#     elif tipo.lower()== \"tea\":\n",
    "        \n",
    "#         if period.lower()==\"mes\":\n",
    "#             return(tasa_tea_mes(spot,future,t))\n",
    "        \n",
    "#         elif period.lower()==\"dias\":\n",
    "#             return(tasa_tea_dias(spot,future,t))\n",
    "        \n",
    "#         else:\n",
    "#             print(\"Options: mes, dias\")"
   ]
  },
  {
   "cell_type": "code",
   "execution_count": 26,
   "metadata": {
    "code_folding": [
     0
    ]
   },
   "outputs": [],
   "source": [
    "def tipo_tasa(spot,future,t=30,tipo=\"continua\",period=\"dias\"):\n",
    "    \n",
    "    if tipo.lower()== \"continua\":\n",
    "        \n",
    "        if period.lower()==\"mes\":\n",
    "            return(tasa_continua_mes(spot,future,t))\n",
    "        \n",
    "        elif period.lower()==\"dias\":\n",
    "            return(tasa_continua_dias(spot,future,t))\n",
    "        \n",
    "        else:\n",
    "            print(\"Options: mes, dias\")\n",
    "            \n",
    "            \n",
    "    elif tipo.lower()== \"tna\":\n",
    "        \n",
    "        if period.lower()==\"mes\":\n",
    "            return(tasa_tna_mes(spot,future,t))\n",
    "        \n",
    "        elif period.lower()==\"dias\":\n",
    "            return(tasa_tna_dias(spot,future,t))\n",
    "        \n",
    "        else:\n",
    "            print(\"Options: mes, dias\")\n",
    "        \n",
    "        \n",
    "    elif tipo.lower()== \"tea\":\n",
    "        \n",
    "        if period.lower()==\"mes\":\n",
    "            return(tasa_tea_mes(spot,future,t))\n",
    "        \n",
    "        elif period.lower()==\"dias\":\n",
    "            return(tasa_tea_dias(spot,future,t))\n",
    "        \n",
    "        else:\n",
    "            print(\"Options: mes, dias\")\n",
    "            \n",
    "    elif tipo.lower()== 'directa':\n",
    "        return(tasa_directa(spot,future))\n",
    "    \n",
    "    else:\n",
    "        return(\"Error\")"
   ]
  },
  {
   "cell_type": "code",
   "execution_count": 27,
   "metadata": {},
   "outputs": [
    {
     "data": {
      "text/plain": [
       "0.11823603914081394"
      ]
     },
     "execution_count": 27,
     "metadata": {},
     "output_type": "execute_result"
    }
   ],
   "source": [
    "spot_v=104.261841\n",
    "future_v=105.28\n",
    "dias=10\n",
    "mes=(10/30)\n",
    "\n",
    "tipo_tasa(spot_v,future_v)"
   ]
  },
  {
   "cell_type": "code",
   "execution_count": 28,
   "metadata": {},
   "outputs": [
    {
     "data": {
      "text/plain": [
       "0.00976540400816428"
      ]
     },
     "execution_count": 28,
     "metadata": {},
     "output_type": "execute_result"
    }
   ],
   "source": [
    "spot_v=104.261841\n",
    "future_v=105.28\n",
    "dias=10\n",
    "mes=(10/30)\n",
    "\n",
    "tipo_tasa(spot=spot_v,\n",
    "          future=future_v,\n",
    "          t=dias,\n",
    "          tipo='directa',\n",
    "          period='dias')"
   ]
  },
  {
   "cell_type": "markdown",
   "metadata": {},
   "source": [
    "### Days until settlement"
   ]
  },
  {
   "cell_type": "markdown",
   "metadata": {},
   "source": [
    "Es importante tener en cuenta que al calcular las tasas de manera diaria se tienen que usar los dias exactos desde que se hace la transaccion hasta el dia del settlement. Generalmente el settlement se da el ultimo dia habil del mes de vencimiento de futuro, pero esto no siempre va a coincidir con el ultimo dia real del mes. Es por esto que tener una funcion que calcula los dias exactos hasta el ultimo dia habil del mes o settlement, es muy importante porque con este input se puede calcular la tasa correcta."
   ]
  },
  {
   "cell_type": "code",
   "execution_count": 29,
   "metadata": {},
   "outputs": [
    {
     "data": {
      "text/plain": [
       "34"
      ]
     },
     "execution_count": 29,
     "metadata": {},
     "output_type": "execute_result"
    }
   ],
   "source": [
    "import calendar\n",
    "from datetime import date\n",
    "\n",
    "#Calculo el ultimo dia habil del mes, teniendo ano y mes como input.\n",
    "#De la ultima semana del mes, toma el maximo dia de entre 0:5(lun-vier)\n",
    "def last_business_day_in_month(year: int, month: int):\n",
    "    return(date(year,month,max(calendar.monthcalendar(year, month)[-1:][0][:5])))\n",
    "\n",
    "#Calculo el ultimo dia habil del mes, tomamos la ecuacion anterior\n",
    "def days_until_last_business_day(year:int,month:int):\n",
    "    \n",
    "    delta = last_business_day_in_month(year,month) - date.today()\n",
    "    return(delta.days)   \n",
    "\n",
    "days_until_last_business_day(2022,2)"
   ]
  },
  {
   "cell_type": "markdown",
   "metadata": {},
   "source": [
    "###  Bid - Offer Rates"
   ]
  },
  {
   "cell_type": "markdown",
   "metadata": {},
   "source": [
    "Tomo las funciones creadas anteriormente para calcular las tasas tomadoras y colocadoras usando los datos del spot y futuros importados"
   ]
  },
  {
   "cell_type": "code",
   "execution_count": 30,
   "metadata": {
    "code_folding": [],
    "scrolled": false
   },
   "outputs": [],
   "source": [
    "#Final DataFrame\n",
    "tasas_anuales_bid_offer =pd.DataFrame(columns=['bid','offer'])\n",
    "\n",
    "\n",
    "#List variables\n",
    "month_list= ['ene','feb','mar','abr','may','jun','jul','ago','sep','oct','nov','dic']\n",
    "activo_tipo_list = ['DLR', 'GGAL','PAMP','YPFD']\n",
    "activo_ano_list = ['22','23']\n",
    "ano_list=[2022,2023]\n",
    "\n",
    "\n",
    "# Function variables> elijo el tipo de tasa que se va a calcular\n",
    "tipo='continua'\n",
    "period='dias'\n",
    "\n",
    "\n",
    "## Itero con las columnas'bid' y 'offer' del dataframe final\n",
    "for column in tasas_anuales_bid_offer:\n",
    "    ind=0\n",
    "#     print(\"\\n\",column,\"\\n\")\n",
    "    \n",
    "    ## Itero y tomo cada dato de 'bid' y 'offer', se usan los datos de los precios de los futuros\n",
    "    for data in fut[column]:\n",
    "#         print(f\"data {data}\")\n",
    "        \n",
    "        ## Itero para saber a que ano pertenece el futuro\n",
    "        for ano_activo in activo_ano_list:\n",
    "            \n",
    "            ## Corroboro si el ano esta en el indice del precio a traer, y seteo el ano correspondiente\n",
    "            ## para usar en la formula que calcula los dias hasta el settlement\n",
    "            if ano_activo in fut[column].index[ind]:\n",
    "                year=ano_list[activo_ano_list.index(ano_activo)]\n",
    "\n",
    "#                 print(fut[column].index[ind])\n",
    "                \n",
    "                ## Corroboro el tipo de activo de donde viene la data, DLR,GGAL,PAMP o YPFD\n",
    "                for tipo_activo in activo_tipo_list:\n",
    "\n",
    "                    if tipo_activo in fut[column].index[ind]:\n",
    "                        \n",
    "                        ## Establezco el mes correspondiente a la data\n",
    "                        for mes in month_list:\n",
    "\n",
    "\n",
    "                            if mes in fut[column].index[ind].lower():\n",
    "#                                 print(f\"Mes: {mes}\")\n",
    "\n",
    "                                ## Teniendo el el precio del futuro,el ano y mes de settlement, y el tipo de activo \n",
    "                                ## del que quiero calcular la tasa, puedo traer el valor del spot, calcular los dias\n",
    "                                ## hasta el settlement y calcular la tasa\n",
    "            \n",
    "                                #dataframe\n",
    "                                index= fut[column].index[ind]\n",
    "                                column= column\n",
    "\n",
    "                                #function\n",
    "                                spot= spot_df.iloc[-1][tipo_activo]\n",
    "                                future= data\n",
    "                                month = month_list.index(mes)+1\n",
    "\n",
    "\n",
    "                                #output\n",
    "                                tasas_anuales_bid_offer.loc[index,column] = round(tipo_tasa(spot=spot,\n",
    "                                                                                      future=future,\n",
    "                                                                                      t=days_until_last_business_day(year,month),\n",
    "                                                                                      tipo=tipo,\n",
    "                                                                                      period=period),6)\n",
    "#                                 print(f\"Tipo Activo: {tipo_activo}\")\n",
    "#                                 print(f\"Spot: {spot}\")\n",
    "#                                 print(f\"Future: {future}\")\n",
    "#                                 print(f\"Year: {year}\")\n",
    "#                                 print(f\"Month count: {month}\")\n",
    "#                                 print(f\"Dias faltan: {days_until_last_business_day(year,month)}\")\n",
    "#                                 print(f\"Tipo: {tipo}\")\n",
    "#                                 print(f\"Periodo: {period}\")\n",
    "#                                 print(f\"Tasa: {tasas_anuales_bid_offer.loc[index,column]}\\n\")\n",
    "\n",
    "#             else:\n",
    "#                 print(f\"Other Year {ano_activo}\")\n",
    "                \n",
    "#         print(f\"Ind: {ind}\\n\")\n",
    "        ind+=1\n",
    "\n",
    "            \n",
    "# tasas_anuales_bid_offer"
   ]
  },
  {
   "cell_type": "markdown",
   "metadata": {},
   "source": [
    "Tasa colocadora: bid, Tasa tomadora: offer"
   ]
  },
  {
   "cell_type": "code",
   "execution_count": 31,
   "metadata": {},
   "outputs": [
    {
     "data": {
      "text/html": [
       "<div>\n",
       "<style scoped>\n",
       "    .dataframe tbody tr th:only-of-type {\n",
       "        vertical-align: middle;\n",
       "    }\n",
       "\n",
       "    .dataframe tbody tr th {\n",
       "        vertical-align: top;\n",
       "    }\n",
       "\n",
       "    .dataframe thead th {\n",
       "        text-align: right;\n",
       "    }\n",
       "</style>\n",
       "<table border=\"1\" class=\"dataframe\">\n",
       "  <thead>\n",
       "    <tr style=\"text-align: right;\">\n",
       "      <th></th>\n",
       "      <th>bid</th>\n",
       "      <th>offer</th>\n",
       "    </tr>\n",
       "  </thead>\n",
       "  <tbody>\n",
       "    <tr>\n",
       "      <th>DLR/ENE22</th>\n",
       "      <td>0.313278</td>\n",
       "      <td>NaN</td>\n",
       "    </tr>\n",
       "    <tr>\n",
       "      <th>DLR/FEB22</th>\n",
       "      <td>0.408841</td>\n",
       "      <td>0.416742</td>\n",
       "    </tr>\n",
       "    <tr>\n",
       "      <th>DLR/MAR22</th>\n",
       "      <td>0.483768</td>\n",
       "      <td>0.491152</td>\n",
       "    </tr>\n",
       "    <tr>\n",
       "      <th>DLR/ABR22</th>\n",
       "      <td>0.488124</td>\n",
       "      <td>0.499566</td>\n",
       "    </tr>\n",
       "    <tr>\n",
       "      <th>DLR/MAY22</th>\n",
       "      <td>0.483777</td>\n",
       "      <td>0.497806</td>\n",
       "    </tr>\n",
       "    <tr>\n",
       "      <th>DLR/JUN22</th>\n",
       "      <td>0.49442</td>\n",
       "      <td>0.495325</td>\n",
       "    </tr>\n",
       "    <tr>\n",
       "      <th>DLR/JUL22</th>\n",
       "      <td>NaN</td>\n",
       "      <td>NaN</td>\n",
       "    </tr>\n",
       "    <tr>\n",
       "      <th>DLR/AGO22</th>\n",
       "      <td>NaN</td>\n",
       "      <td>NaN</td>\n",
       "    </tr>\n",
       "    <tr>\n",
       "      <th>DLR/SEP22</th>\n",
       "      <td>NaN</td>\n",
       "      <td>NaN</td>\n",
       "    </tr>\n",
       "    <tr>\n",
       "      <th>DLR/OCT22</th>\n",
       "      <td>NaN</td>\n",
       "      <td>NaN</td>\n",
       "    </tr>\n",
       "    <tr>\n",
       "      <th>DLR/NOV22</th>\n",
       "      <td>NaN</td>\n",
       "      <td>NaN</td>\n",
       "    </tr>\n",
       "    <tr>\n",
       "      <th>DLR/DIC22</th>\n",
       "      <td>NaN</td>\n",
       "      <td>NaN</td>\n",
       "    </tr>\n",
       "    <tr>\n",
       "      <th>GGAL/FEB22</th>\n",
       "      <td>NaN</td>\n",
       "      <td>NaN</td>\n",
       "    </tr>\n",
       "    <tr>\n",
       "      <th>PAMP/FEB22</th>\n",
       "      <td>0.215453</td>\n",
       "      <td>0.266271</td>\n",
       "    </tr>\n",
       "    <tr>\n",
       "      <th>YPFD/FEB22</th>\n",
       "      <td>NaN</td>\n",
       "      <td>0.883649</td>\n",
       "    </tr>\n",
       "  </tbody>\n",
       "</table>\n",
       "</div>"
      ],
      "text/plain": [
       "                 bid     offer\n",
       "DLR/ENE22   0.313278       NaN\n",
       "DLR/FEB22   0.408841  0.416742\n",
       "DLR/MAR22   0.483768  0.491152\n",
       "DLR/ABR22   0.488124  0.499566\n",
       "DLR/MAY22   0.483777  0.497806\n",
       "DLR/JUN22    0.49442  0.495325\n",
       "DLR/JUL22        NaN       NaN\n",
       "DLR/AGO22        NaN       NaN\n",
       "DLR/SEP22        NaN       NaN\n",
       "DLR/OCT22        NaN       NaN\n",
       "DLR/NOV22        NaN       NaN\n",
       "DLR/DIC22        NaN       NaN\n",
       "GGAL/FEB22       NaN       NaN\n",
       "PAMP/FEB22  0.215453  0.266271\n",
       "YPFD/FEB22       NaN  0.883649"
      ]
     },
     "execution_count": 31,
     "metadata": {},
     "output_type": "execute_result"
    }
   ],
   "source": [
    "tasas_anuales_bid_offer"
   ]
  },
  {
   "cell_type": "code",
   "execution_count": 32,
   "metadata": {},
   "outputs": [
    {
     "data": {
      "text/html": [
       "<div>\n",
       "<style scoped>\n",
       "    .dataframe tbody tr th:only-of-type {\n",
       "        vertical-align: middle;\n",
       "    }\n",
       "\n",
       "    .dataframe tbody tr th {\n",
       "        vertical-align: top;\n",
       "    }\n",
       "\n",
       "    .dataframe thead th {\n",
       "        text-align: right;\n",
       "    }\n",
       "</style>\n",
       "<table border=\"1\" class=\"dataframe\">\n",
       "  <thead>\n",
       "    <tr style=\"text-align: right;\">\n",
       "      <th></th>\n",
       "      <th>bid</th>\n",
       "      <th>offer</th>\n",
       "    </tr>\n",
       "  </thead>\n",
       "  <tbody>\n",
       "    <tr>\n",
       "      <th>DLR/ENE22</th>\n",
       "      <td>0.313278</td>\n",
       "      <td>NaN</td>\n",
       "    </tr>\n",
       "    <tr>\n",
       "      <th>DLR/FEB22</th>\n",
       "      <td>0.408841</td>\n",
       "      <td>0.416742</td>\n",
       "    </tr>\n",
       "    <tr>\n",
       "      <th>DLR/MAR22</th>\n",
       "      <td>0.483768</td>\n",
       "      <td>0.491152</td>\n",
       "    </tr>\n",
       "    <tr>\n",
       "      <th>DLR/ABR22</th>\n",
       "      <td>0.488124</td>\n",
       "      <td>0.499566</td>\n",
       "    </tr>\n",
       "    <tr>\n",
       "      <th>DLR/MAY22</th>\n",
       "      <td>0.483777</td>\n",
       "      <td>0.497806</td>\n",
       "    </tr>\n",
       "    <tr>\n",
       "      <th>DLR/JUN22</th>\n",
       "      <td>0.49442</td>\n",
       "      <td>0.495325</td>\n",
       "    </tr>\n",
       "    <tr>\n",
       "      <th>DLR/JUL22</th>\n",
       "      <td>NaN</td>\n",
       "      <td>NaN</td>\n",
       "    </tr>\n",
       "    <tr>\n",
       "      <th>DLR/AGO22</th>\n",
       "      <td>NaN</td>\n",
       "      <td>NaN</td>\n",
       "    </tr>\n",
       "    <tr>\n",
       "      <th>DLR/SEP22</th>\n",
       "      <td>NaN</td>\n",
       "      <td>NaN</td>\n",
       "    </tr>\n",
       "    <tr>\n",
       "      <th>DLR/OCT22</th>\n",
       "      <td>NaN</td>\n",
       "      <td>NaN</td>\n",
       "    </tr>\n",
       "    <tr>\n",
       "      <th>DLR/NOV22</th>\n",
       "      <td>NaN</td>\n",
       "      <td>NaN</td>\n",
       "    </tr>\n",
       "    <tr>\n",
       "      <th>DLR/DIC22</th>\n",
       "      <td>NaN</td>\n",
       "      <td>NaN</td>\n",
       "    </tr>\n",
       "    <tr>\n",
       "      <th>GGAL/FEB22</th>\n",
       "      <td>NaN</td>\n",
       "      <td>NaN</td>\n",
       "    </tr>\n",
       "    <tr>\n",
       "      <th>PAMP/FEB22</th>\n",
       "      <td>0.215453</td>\n",
       "      <td>0.266271</td>\n",
       "    </tr>\n",
       "    <tr>\n",
       "      <th>YPFD/FEB22</th>\n",
       "      <td>NaN</td>\n",
       "      <td>0.883649</td>\n",
       "    </tr>\n",
       "  </tbody>\n",
       "</table>\n",
       "</div>"
      ],
      "text/plain": [
       "                 bid     offer\n",
       "DLR/ENE22   0.313278       NaN\n",
       "DLR/FEB22   0.408841  0.416742\n",
       "DLR/MAR22   0.483768  0.491152\n",
       "DLR/ABR22   0.488124  0.499566\n",
       "DLR/MAY22   0.483777  0.497806\n",
       "DLR/JUN22    0.49442  0.495325\n",
       "DLR/JUL22        NaN       NaN\n",
       "DLR/AGO22        NaN       NaN\n",
       "DLR/SEP22        NaN       NaN\n",
       "DLR/OCT22        NaN       NaN\n",
       "DLR/NOV22        NaN       NaN\n",
       "DLR/DIC22        NaN       NaN\n",
       "GGAL/FEB22       NaN       NaN\n",
       "PAMP/FEB22  0.215453  0.266271\n",
       "YPFD/FEB22       NaN  0.883649"
      ]
     },
     "execution_count": 32,
     "metadata": {},
     "output_type": "execute_result"
    }
   ],
   "source": [
    "tasas_anuales_bid_offer"
   ]
  },
  {
   "cell_type": "code",
   "execution_count": 33,
   "metadata": {},
   "outputs": [
    {
     "data": {
      "text/html": [
       "<div>\n",
       "<style scoped>\n",
       "    .dataframe tbody tr th:only-of-type {\n",
       "        vertical-align: middle;\n",
       "    }\n",
       "\n",
       "    .dataframe tbody tr th {\n",
       "        vertical-align: top;\n",
       "    }\n",
       "\n",
       "    .dataframe thead th {\n",
       "        text-align: right;\n",
       "    }\n",
       "</style>\n",
       "<table border=\"1\" class=\"dataframe\">\n",
       "  <thead>\n",
       "    <tr style=\"text-align: right;\">\n",
       "      <th></th>\n",
       "      <th>bid</th>\n",
       "      <th>offer</th>\n",
       "      <th>arbitraje</th>\n",
       "    </tr>\n",
       "  </thead>\n",
       "  <tbody>\n",
       "    <tr>\n",
       "      <th>DLR/ENE22</th>\n",
       "      <td>0.313278</td>\n",
       "      <td>NaN</td>\n",
       "      <td>False</td>\n",
       "    </tr>\n",
       "    <tr>\n",
       "      <th>DLR/FEB22</th>\n",
       "      <td>0.408841</td>\n",
       "      <td>0.416742</td>\n",
       "      <td>False</td>\n",
       "    </tr>\n",
       "    <tr>\n",
       "      <th>DLR/MAR22</th>\n",
       "      <td>0.483768</td>\n",
       "      <td>0.491152</td>\n",
       "      <td>False</td>\n",
       "    </tr>\n",
       "    <tr>\n",
       "      <th>DLR/ABR22</th>\n",
       "      <td>0.488124</td>\n",
       "      <td>0.499566</td>\n",
       "      <td>False</td>\n",
       "    </tr>\n",
       "    <tr>\n",
       "      <th>DLR/MAY22</th>\n",
       "      <td>0.483777</td>\n",
       "      <td>0.497806</td>\n",
       "      <td>False</td>\n",
       "    </tr>\n",
       "    <tr>\n",
       "      <th>DLR/JUN22</th>\n",
       "      <td>0.49442</td>\n",
       "      <td>0.495325</td>\n",
       "      <td>False</td>\n",
       "    </tr>\n",
       "    <tr>\n",
       "      <th>DLR/JUL22</th>\n",
       "      <td>NaN</td>\n",
       "      <td>NaN</td>\n",
       "      <td>False</td>\n",
       "    </tr>\n",
       "    <tr>\n",
       "      <th>DLR/AGO22</th>\n",
       "      <td>NaN</td>\n",
       "      <td>NaN</td>\n",
       "      <td>False</td>\n",
       "    </tr>\n",
       "    <tr>\n",
       "      <th>DLR/SEP22</th>\n",
       "      <td>NaN</td>\n",
       "      <td>NaN</td>\n",
       "      <td>False</td>\n",
       "    </tr>\n",
       "    <tr>\n",
       "      <th>DLR/OCT22</th>\n",
       "      <td>NaN</td>\n",
       "      <td>NaN</td>\n",
       "      <td>False</td>\n",
       "    </tr>\n",
       "    <tr>\n",
       "      <th>DLR/NOV22</th>\n",
       "      <td>NaN</td>\n",
       "      <td>NaN</td>\n",
       "      <td>False</td>\n",
       "    </tr>\n",
       "    <tr>\n",
       "      <th>DLR/DIC22</th>\n",
       "      <td>NaN</td>\n",
       "      <td>NaN</td>\n",
       "      <td>False</td>\n",
       "    </tr>\n",
       "    <tr>\n",
       "      <th>GGAL/FEB22</th>\n",
       "      <td>NaN</td>\n",
       "      <td>NaN</td>\n",
       "      <td>False</td>\n",
       "    </tr>\n",
       "    <tr>\n",
       "      <th>PAMP/FEB22</th>\n",
       "      <td>0.215453</td>\n",
       "      <td>0.266271</td>\n",
       "      <td>False</td>\n",
       "    </tr>\n",
       "    <tr>\n",
       "      <th>YPFD/FEB22</th>\n",
       "      <td>NaN</td>\n",
       "      <td>0.883649</td>\n",
       "      <td>False</td>\n",
       "    </tr>\n",
       "  </tbody>\n",
       "</table>\n",
       "</div>"
      ],
      "text/plain": [
       "                 bid     offer  arbitraje\n",
       "DLR/ENE22   0.313278       NaN      False\n",
       "DLR/FEB22   0.408841  0.416742      False\n",
       "DLR/MAR22   0.483768  0.491152      False\n",
       "DLR/ABR22   0.488124  0.499566      False\n",
       "DLR/MAY22   0.483777  0.497806      False\n",
       "DLR/JUN22    0.49442  0.495325      False\n",
       "DLR/JUL22        NaN       NaN      False\n",
       "DLR/AGO22        NaN       NaN      False\n",
       "DLR/SEP22        NaN       NaN      False\n",
       "DLR/OCT22        NaN       NaN      False\n",
       "DLR/NOV22        NaN       NaN      False\n",
       "DLR/DIC22        NaN       NaN      False\n",
       "GGAL/FEB22       NaN       NaN      False\n",
       "PAMP/FEB22  0.215453  0.266271      False\n",
       "YPFD/FEB22       NaN  0.883649      False"
      ]
     },
     "execution_count": 33,
     "metadata": {},
     "output_type": "execute_result"
    }
   ],
   "source": [
    "tasas_anuales_bid_offer['arbitraje']= tasas_anuales_bid_offer['bid']>tasas_anuales_bid_offer['offer']\n",
    "tasas_anuales_bid_offer"
   ]
  },
  {
   "cell_type": "code",
   "execution_count": 34,
   "metadata": {
    "scrolled": false
   },
   "outputs": [
    {
     "name": "stdout",
     "output_type": "stream",
     "text": [
      "Bid: DLR/MAR22 0.483768,\n",
      "Offer: DLR/FEB22 0.416742\n",
      "\n",
      "Bid: DLR/ABR22 0.488124,\n",
      "Offer: DLR/FEB22 0.416742\n",
      "\n",
      "Bid: DLR/MAY22 0.483777,\n",
      "Offer: DLR/FEB22 0.416742\n",
      "\n",
      "Bid: DLR/JUN22 0.49442,\n",
      "Offer: DLR/FEB22 0.416742\n",
      "\n",
      "Bid: DLR/JUN22 0.49442,\n",
      "Offer: DLR/MAR22 0.491152\n",
      "\n",
      "Bid: DLR/ENE22 0.313278,\n",
      "Offer: PAMP/FEB22 0.266271\n",
      "\n",
      "Bid: DLR/FEB22 0.408841,\n",
      "Offer: PAMP/FEB22 0.266271\n",
      "\n",
      "Bid: DLR/MAR22 0.483768,\n",
      "Offer: PAMP/FEB22 0.266271\n",
      "\n",
      "Bid: DLR/ABR22 0.488124,\n",
      "Offer: PAMP/FEB22 0.266271\n",
      "\n",
      "Bid: DLR/MAY22 0.483777,\n",
      "Offer: PAMP/FEB22 0.266271\n",
      "\n",
      "Bid: DLR/JUN22 0.49442,\n",
      "Offer: PAMP/FEB22 0.266271\n",
      "\n"
     ]
    }
   ],
   "source": [
    "arbitraje_dict={}\n",
    "count=0\n",
    "for offer in tasas_anuales_bid_offer['offer']:\n",
    "    for bid in tasas_anuales_bid_offer['bid']:\n",
    "        if bid>offer:\n",
    "            print(f\"Bid: {tasas_anuales_bid_offer[tasas_anuales_bid_offer['bid'] == bid].index[0]} {bid},\\nOffer: {tasas_anuales_bid_offer[tasas_anuales_bid_offer['offer'] == offer].index[0]} {offer}\\n\")\n",
    "            arbitraje_dict.update({f\"{tasas_anuales_bid_offer[tasas_anuales_bid_offer['bid'] == bid].index[0]}-{count}\": (bid, (tasas_anuales_bid_offer[tasas_anuales_bid_offer['offer'] == offer].index[0], offer))})\n",
    "            count+=1"
   ]
  },
  {
   "cell_type": "code",
   "execution_count": 35,
   "metadata": {},
   "outputs": [],
   "source": [
    "# arbitraje_dict"
   ]
  },
  {
   "cell_type": "code",
   "execution_count": 36,
   "metadata": {},
   "outputs": [
    {
     "data": {
      "text/html": [
       "<div>\n",
       "<style scoped>\n",
       "    .dataframe tbody tr th:only-of-type {\n",
       "        vertical-align: middle;\n",
       "    }\n",
       "\n",
       "    .dataframe tbody tr th {\n",
       "        vertical-align: top;\n",
       "    }\n",
       "\n",
       "    .dataframe thead th {\n",
       "        text-align: right;\n",
       "    }\n",
       "</style>\n",
       "<table border=\"1\" class=\"dataframe\">\n",
       "  <thead>\n",
       "    <tr style=\"text-align: right;\">\n",
       "      <th></th>\n",
       "      <th>bid</th>\n",
       "      <th>offer</th>\n",
       "    </tr>\n",
       "  </thead>\n",
       "  <tbody>\n",
       "    <tr>\n",
       "      <th>DLR/ABR22-1</th>\n",
       "      <td>0.488124</td>\n",
       "      <td>(DLR/FEB22, 0.416742)</td>\n",
       "    </tr>\n",
       "    <tr>\n",
       "      <th>DLR/ABR22-8</th>\n",
       "      <td>0.488124</td>\n",
       "      <td>(PAMP/FEB22, 0.266271)</td>\n",
       "    </tr>\n",
       "    <tr>\n",
       "      <th>DLR/ENE22-5</th>\n",
       "      <td>0.313278</td>\n",
       "      <td>(PAMP/FEB22, 0.266271)</td>\n",
       "    </tr>\n",
       "    <tr>\n",
       "      <th>DLR/FEB22-6</th>\n",
       "      <td>0.408841</td>\n",
       "      <td>(PAMP/FEB22, 0.266271)</td>\n",
       "    </tr>\n",
       "    <tr>\n",
       "      <th>DLR/JUN22-10</th>\n",
       "      <td>0.49442</td>\n",
       "      <td>(PAMP/FEB22, 0.266271)</td>\n",
       "    </tr>\n",
       "    <tr>\n",
       "      <th>DLR/JUN22-3</th>\n",
       "      <td>0.49442</td>\n",
       "      <td>(DLR/FEB22, 0.416742)</td>\n",
       "    </tr>\n",
       "    <tr>\n",
       "      <th>DLR/JUN22-4</th>\n",
       "      <td>0.49442</td>\n",
       "      <td>(DLR/MAR22, 0.491152)</td>\n",
       "    </tr>\n",
       "    <tr>\n",
       "      <th>DLR/MAR22-0</th>\n",
       "      <td>0.483768</td>\n",
       "      <td>(DLR/FEB22, 0.416742)</td>\n",
       "    </tr>\n",
       "    <tr>\n",
       "      <th>DLR/MAR22-7</th>\n",
       "      <td>0.483768</td>\n",
       "      <td>(PAMP/FEB22, 0.266271)</td>\n",
       "    </tr>\n",
       "    <tr>\n",
       "      <th>DLR/MAY22-2</th>\n",
       "      <td>0.483777</td>\n",
       "      <td>(DLR/FEB22, 0.416742)</td>\n",
       "    </tr>\n",
       "    <tr>\n",
       "      <th>DLR/MAY22-9</th>\n",
       "      <td>0.483777</td>\n",
       "      <td>(PAMP/FEB22, 0.266271)</td>\n",
       "    </tr>\n",
       "  </tbody>\n",
       "</table>\n",
       "</div>"
      ],
      "text/plain": [
       "                   bid                   offer\n",
       "DLR/ABR22-1   0.488124   (DLR/FEB22, 0.416742)\n",
       "DLR/ABR22-8   0.488124  (PAMP/FEB22, 0.266271)\n",
       "DLR/ENE22-5   0.313278  (PAMP/FEB22, 0.266271)\n",
       "DLR/FEB22-6   0.408841  (PAMP/FEB22, 0.266271)\n",
       "DLR/JUN22-10   0.49442  (PAMP/FEB22, 0.266271)\n",
       "DLR/JUN22-3    0.49442   (DLR/FEB22, 0.416742)\n",
       "DLR/JUN22-4    0.49442   (DLR/MAR22, 0.491152)\n",
       "DLR/MAR22-0   0.483768   (DLR/FEB22, 0.416742)\n",
       "DLR/MAR22-7   0.483768  (PAMP/FEB22, 0.266271)\n",
       "DLR/MAY22-2   0.483777   (DLR/FEB22, 0.416742)\n",
       "DLR/MAY22-9   0.483777  (PAMP/FEB22, 0.266271)"
      ]
     },
     "execution_count": 36,
     "metadata": {},
     "output_type": "execute_result"
    }
   ],
   "source": [
    "arbitraje_df = pd.DataFrame(arbitraje_dict).T.sort_index()\n",
    "arbitraje_df.columns = ['bid','offer']\n",
    "arbitraje_df"
   ]
  },
  {
   "cell_type": "code",
   "execution_count": 37,
   "metadata": {},
   "outputs": [],
   "source": [
    "bid = 0.29502"
   ]
  },
  {
   "cell_type": "code",
   "execution_count": null,
   "metadata": {},
   "outputs": [],
   "source": []
  },
  {
   "cell_type": "code",
   "execution_count": null,
   "metadata": {},
   "outputs": [],
   "source": []
  },
  {
   "cell_type": "code",
   "execution_count": null,
   "metadata": {},
   "outputs": [],
   "source": []
  },
  {
   "cell_type": "code",
   "execution_count": null,
   "metadata": {},
   "outputs": [],
   "source": []
  },
  {
   "cell_type": "code",
   "execution_count": null,
   "metadata": {},
   "outputs": [],
   "source": []
  },
  {
   "cell_type": "code",
   "execution_count": null,
   "metadata": {},
   "outputs": [],
   "source": []
  },
  {
   "cell_type": "code",
   "execution_count": null,
   "metadata": {},
   "outputs": [],
   "source": []
  },
  {
   "cell_type": "code",
   "execution_count": null,
   "metadata": {},
   "outputs": [],
   "source": []
  },
  {
   "cell_type": "code",
   "execution_count": null,
   "metadata": {},
   "outputs": [],
   "source": []
  },
  {
   "cell_type": "code",
   "execution_count": null,
   "metadata": {},
   "outputs": [],
   "source": []
  }
 ],
 "metadata": {
  "hide_input": false,
  "kernelspec": {
   "display_name": "Python 3",
   "language": "python",
   "name": "python3"
  },
  "language_info": {
   "codemirror_mode": {
    "name": "ipython",
    "version": 3
   },
   "file_extension": ".py",
   "mimetype": "text/x-python",
   "name": "python",
   "nbconvert_exporter": "python",
   "pygments_lexer": "ipython3",
   "version": "3.7.6"
  }
 },
 "nbformat": 4,
 "nbformat_minor": 4
}
